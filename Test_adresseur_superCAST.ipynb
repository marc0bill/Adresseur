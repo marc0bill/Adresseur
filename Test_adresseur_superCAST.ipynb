{
 "cells": [
  {
   "cell_type": "code",
   "execution_count": 1,
   "metadata": {},
   "outputs": [
    {
     "name": "stderr",
     "output_type": "stream",
     "text": [
      "C:\\Users\\marc.bocquet\\AppData\\Roaming\\Python\\Python37\\site-packages\\pandas\\plotting\\_matplotlib\\boxplot.py:4: MatplotlibDeprecationWarning: \n",
      "The text.latex.unicode rcparam was deprecated in Matplotlib 3.0 and will be removed in 3.2.\n",
      "  from matplotlib.artist import setp\n"
     ]
    }
   ],
   "source": [
    "import numpy as np\n",
    "import pandas as pd\n",
    "import matplotlib.pyplot as plt\n",
    "import time"
   ]
  },
  {
   "cell_type": "code",
   "execution_count": 2,
   "metadata": {},
   "outputs": [],
   "source": [
    "import serial #pyserial\n",
    "import serial.tools.list_ports"
   ]
  },
  {
   "cell_type": "code",
   "execution_count": 3,
   "metadata": {},
   "outputs": [
    {
     "name": "stdout",
     "output_type": "stream",
     "text": [
      "Port de communication (COM1)\n",
      "Intel(R) Active Management Technology - SOL (COM3)\n",
      "USB Serial Port (COM12)\n"
     ]
    }
   ],
   "source": [
    "ports = list(serial.tools.list_ports.comports())\n",
    "ser = serial.Serial()\n",
    "ser.baudrate = 57600\n",
    "for port in ports:\n",
    "    print(port[1])"
   ]
  },
  {
   "cell_type": "code",
   "execution_count": 5,
   "metadata": {},
   "outputs": [],
   "source": [
    "ser.port = 'COM12'"
   ]
  },
  {
   "cell_type": "code",
   "execution_count": 6,
   "metadata": {},
   "outputs": [
    {
     "name": "stdout",
     "output_type": "stream",
     "text": [
      "Connected to COM12\n"
     ]
    }
   ],
   "source": [
    "try:\n",
    "    ser.open()\n",
    "    print(\"Connected to %s\" % ser.port)\n",
    "except :\n",
    "    print(\"Error openning the port!\")"
   ]
  },
  {
   "cell_type": "code",
   "execution_count": null,
   "metadata": {},
   "outputs": [],
   "source": []
  },
  {
   "cell_type": "code",
   "execution_count": 4,
   "metadata": {},
   "outputs": [],
   "source": [
    "addCOL = [1] + [0] +[1] + [0] +[1]+ [0] +[1]+ [0] +[1] +[0]*119 # 128 colonnes\n",
    "addROW = [1] + [0] +[1] + [0] +[1]+ [0] +[1]+ [0] +[1] + [0]*(31-8)  #  32 lignes"
   ]
  },
  {
   "cell_type": "code",
   "execution_count": 5,
   "metadata": {},
   "outputs": [],
   "source": [
    "addCOL = ([1,0,1,0,0,0,0,1] + [0,1,0,1,1,0,0,1]) *8\n",
    "addROW = [1,1,0,1,0,0,0,1]+[0,1,0,1,0,0,1,1] + [0]*(8*2)  #  32 lignes"
   ]
  },
  {
   "cell_type": "code",
   "execution_count": 6,
   "metadata": {},
   "outputs": [],
   "source": [
    "lstTx=[b'\\xAA']\n",
    "nb1 = 0\n",
    "for mot in np.reshape(np.array(addCOL+addROW),(20,8)):\n",
    "    motC = bytes([int('0b'+''.join(str(e) for e in list(mot)),2)])\n",
    "    lstTx += [motC]\n",
    "    nb1 += bin(motC[0]).count('1')\n",
    "\n",
    "lstTx+=[bytes([(addCOL+addROW).count(1)])]\n",
    "lstTx+=[b'\\xAA']"
   ]
  },
  {
   "cell_type": "code",
   "execution_count": 10,
   "metadata": {},
   "outputs": [],
   "source": [
    "for mot in lstTx:\n",
    "    ser.write(mot)\n",
    "    time.sleep(10/ser.baudrate)\n",
    "time.sleep(0.000001)\n",
    "rlt=ser.read()\n",
    "rlt[0]==lstTx[-2][0]"
   ]
  },
  {
   "cell_type": "code",
   "execution_count": 14,
   "metadata": {},
   "outputs": [
    {
     "data": {
      "text/plain": [
       "True"
      ]
     },
     "execution_count": 14,
     "metadata": {},
     "output_type": "execute_result"
    }
   ],
   "source": []
  },
  {
   "cell_type": "code",
   "execution_count": null,
   "metadata": {},
   "outputs": [],
   "source": []
  },
  {
   "cell_type": "code",
   "execution_count": null,
   "metadata": {},
   "outputs": [],
   "source": []
  }
 ],
 "metadata": {
  "hide_input": false,
  "kernelspec": {
   "display_name": "Python 3",
   "language": "python",
   "name": "python3"
  },
  "language_info": {
   "codemirror_mode": {
    "name": "ipython",
    "version": 3
   },
   "file_extension": ".py",
   "mimetype": "text/x-python",
   "name": "python",
   "nbconvert_exporter": "python",
   "pygments_lexer": "ipython3",
   "version": "3.7.3"
  }
 },
 "nbformat": 4,
 "nbformat_minor": 2
}
