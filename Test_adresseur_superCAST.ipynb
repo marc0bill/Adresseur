{
 "cells": [
  {
   "cell_type": "code",
   "execution_count": null,
   "metadata": {},
   "outputs": [],
   "source": [
    "import numpy as np\n",
    "import pandas as pd\n",
    "import matplotlib.pyplot as plt\n",
    "import time"
   ]
  },
  {
   "cell_type": "code",
   "execution_count": null,
   "metadata": {},
   "outputs": [],
   "source": [
    "import serial\n",
    "import serial.tools.list_ports"
   ]
  },
  {
   "cell_type": "code",
   "execution_count": null,
   "metadata": {},
   "outputs": [],
   "source": [
    "ports = list(serial.tools.list_ports.comports())\n",
    "ser = serial.Serial()\n",
    "ser.baudrate = 115200\n",
    "for port in ports:\n",
    "    if port[1][:15]=='USB Serial Port':\n",
    "        ser.port = port[0]\n",
    "        break\n",
    "try:\n",
    "    ser.open()\n",
    "    print(\"Connected to %s\" % ser.port)\n",
    "except :\n",
    "    print(\"Error openning the port!\")"
   ]
  },
  {
   "cell_type": "code",
   "execution_count": null,
   "metadata": {},
   "outputs": [],
   "source": [
    "addCOL = [1] + [0] +[1] + [0] +[1]+ [0] +[1]+ [0] +[1] +[0]*119 # 128 colonnes\n",
    "addROW = [1] + [0] +[1] + [0] +[1]+ [0] +[1]+ [0] +[1] + [0]*(31-8)  #  32 lignes"
   ]
  },
  {
   "cell_type": "code",
   "execution_count": null,
   "metadata": {},
   "outputs": [],
   "source": [
    "addCOL = ([1,0,1,0,0,0,0,1] + [0,1,0,1,1,0,0,1]) *8\n",
    "addROW = [1,1,0,1,0,0,0,1]+[0,1,0,1,0,0,1,1] + [0]*(8*2)  #  32 lignes"
   ]
  },
  {
   "cell_type": "code",
   "execution_count": null,
   "metadata": {},
   "outputs": [],
   "source": [
    "lstTx=[b'\\xAA']\n",
    "nb1 = 0\n",
    "for mot in np.reshape(np.array(addCOL+addROW),(20,8)):\n",
    "    motC = bytes([int('0b'+''.join(str(e) for e in list(mot)),2)])\n",
    "    lstTx += [motC]\n",
    "    nb1 += bin(motC[0]).count('1')\n",
    "\n",
    "lstTx+=[bytes([4+nb1+4])]\n",
    "lstTx+=[b'\\xAA']\n",
    "\n",
    "for mot in lstTx:\n",
    "    ser.write(mot)\n",
    "    #time.sleep(10/ser.baudrate)"
   ]
  }
 ],
 "metadata": {
  "hide_input": false,
  "kernelspec": {
   "display_name": "Python 3",
   "language": "python",
   "name": "python3"
  },
  "language_info": {
   "codemirror_mode": {
    "name": "ipython",
    "version": 3
   },
   "file_extension": ".py",
   "mimetype": "text/x-python",
   "name": "python",
   "nbconvert_exporter": "python",
   "pygments_lexer": "ipython3",
   "version": "3.7.3"
  }
 },
 "nbformat": 4,
 "nbformat_minor": 2
}
